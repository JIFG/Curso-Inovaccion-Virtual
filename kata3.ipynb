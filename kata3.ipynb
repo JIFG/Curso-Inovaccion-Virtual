{
 "cells": [
  {
   "cell_type": "markdown",
   "metadata": {},
   "source": [
    "## EScribir declaraciones if,else, y elif"
   ]
  },
  {
   "cell_type": "markdown",
   "metadata": {},
   "source": [
    "Para este ejercicio, escribirás una lógica condicional que imprima una advertencia si un asteroide se acerca a la Tierra demasiado rápido. La velocidad del asteroide varía dependiendo de lo cerca que esté del sol, y cualquier velocidad superior a 25 kilómetros por segundo (km/s) merece una advertencia.\n",
    "\n",
    "Un asteroide se acerca, y viaja a una velocidad de 49 km/s."
   ]
  },
  {
   "cell_type": "markdown",
   "metadata": {},
   "source": [
    "# Añadir el código necesario para crear una variable que guarde la velocidad del asteroide.\n",
    "# Escribe una expresión de prueba para calcular si necesita una advertencia.\n",
    "# Agregue las instrucciones que se ejecutarán si la expresión de prueba es true o false."
   ]
  },
  {
   "cell_type": "code",
   "execution_count": 1,
   "metadata": {},
   "outputs": [
    {
     "name": "stdout",
     "output_type": "stream",
     "text": [
      "ADVERTENCIA: asteroide se acerca a la tierra demasiado rapido\n"
     ]
    }
   ],
   "source": [
    "adv=25\n",
    "asteroide=49\n",
    "if asteroide>adv:\n",
    "    print(\"ADVERTENCIA: asteroide se acerca a la tierra demasiado rapido\")\n",
    "else:\n",
    "    print(\"hay buen clima el dia de hoy :)\")\n"
   ]
  },
  {
   "cell_type": "markdown",
   "metadata": {},
   "source": [
    "Si un asteroide entra en la atmósfera de la Tierra a una velocidad mayor o igual a 20 km/s, a veces produce un rayo de luz que se puede ver desde la Tierra. Escribe la lógica condicional que usa declaraciones if, else, y elif para alertar a las personas de todo el mundo que deben buscar un asteroide en el cielo. ¡Hay uno que se dirige a la tierra ahora a una velocidad de 19 km/s!"
   ]
  },
  {
   "cell_type": "markdown",
   "metadata": {},
   "source": [
    "# Agrega el código para crear una variable para un asteroide que viaja a 19 km/s\n",
    "# Escribe varias expresiones de prueba para determinar si puedes ver el rayo de luz desde la tierra\n",
    "# Agrega las instrucciones que se ejecutarán si las expresiones de prueba son True o False"
   ]
  },
  {
   "cell_type": "code",
   "execution_count": 2,
   "metadata": {},
   "outputs": [
    {
     "name": "stdout",
     "output_type": "stream",
     "text": [
      "hay buen clima el dia de hoy :)\n"
     ]
    }
   ],
   "source": [
    "asteroide=19\n",
    "luz=20\n",
    "if asteroide>luz:\n",
    "    print(\"Rayo de luz visible, ¡mira el cielo y pide un deseo!\")\n",
    "elif asteroide==luz:\n",
    "    print(\"Rayo de luz visible, ¡mira el cielo y pide un deseo!\")\n",
    "    \n",
    "else:\n",
    "    print(\"hay buen clima el dia de hoy :)\")"
   ]
  },
  {
   "cell_type": "markdown",
   "metadata": {},
   "source": [
    "## Uso de operadores and y or\n"
   ]
  },
  {
   "cell_type": "markdown",
   "metadata": {},
   "source": [
    "*Los asteroides de menos de 25 metros en su dimensión más grande probablemente se quemarán a medida que entren en la atmósfera de la Tierra.\n",
    "\n",
    "Si una pieza de un asteroide que es más grande que 25 metros pero más pequeña que 1000 metros golpeara la Tierra, causaría mucho daño.\n",
    "También discutimos en el ejercicio anterior que:\n",
    "\n",
    "La velocidad del asteroide varía en función de lo cerca que esté del sol, y cualquier velocidad superior a 25 kilómetros por segundo (km/s) merece una advertencia.\n",
    "Si un asteroide entra en la atmósfera de la Tierra a una velocidad mayor o igual a 20 km/s, a veces produce un rayo de luz que se puede ver desde la Tierra.\n",
    "Usando toda esta información, escribe un programa que emita la advertencia o información correcta a la gente de la Tierra, según la velocidad y el tamaño de un asteroide. Utiliza instrucciones if, else, y elif, así como los operadores and y or.\n",
    "\n",
    "# Agrega el código para crear nuevas variables para la velocidad y el tamaño del asteroide\n",
    "# Para probar el código, prueba con varias velocidades y tamaños\n",
    "# Escribe varias expresiones de prueba o combinaciones de expresiones de prueba para determinar qué mensaje se debe enviar a Tierra."
   ]
  },
  {
   "cell_type": "code",
   "execution_count": 3,
   "metadata": {},
   "outputs": [
    {
     "name": "stdout",
     "output_type": "stream",
     "text": [
      "ADVERTENCIA: asteroide se acerca a la tierra demasiado rapido\n"
     ]
    }
   ],
   "source": [
    "tam_asteroide=25\n",
    "vel_asteroide=30\n",
    "luz=20\n",
    "adv=25\n",
    "\n",
    "if tam_asteroide>adv and vel_asteroide>adv :\n",
    "    print(\"¡Cuidado!, ¡asteroide muy grande y peligroso acercandose demasiado rapido!\")\n",
    "elif vel_asteroide<=adv and tam_asteroide <=adv:\n",
    "    print(\"Rayo de luz visible, ¡mira el cielo y pide un deseo!\")\n",
    "elif vel_asteroide<=adv:\n",
    "     print(\"se acerca un asteroide bastante grande a una velocidad normal, pero podria causar daños\")\n",
    "else:\n",
    "    print(\"ADVERTENCIA: asteroide se acerca a la tierra demasiado rapido\")\n",
    "\n"
   ]
  },
  {
   "cell_type": "code",
   "execution_count": 4,
   "metadata": {},
   "outputs": [
    {
     "name": "stdout",
     "output_type": "stream",
     "text": [
      "¡Rayo de luz visible, ¡mira el cielo y pide un deseo!\n"
     ]
    }
   ],
   "source": [
    "tam_ast=20\n",
    "vel_ast=26\n",
    "luz=20\n",
    "adv=25\n",
    "\n",
    "if tam_ast<25 or vel_ast>adv:\n",
    "    print(\"¡Rayo de luz visible, ¡mira el cielo y pide un deseo!\")"
   ]
  }
 ],
 "metadata": {
  "interpreter": {
   "hash": "1618fc529e3d3d5b24a8585d0e42558e062a8c64ad06907a66042e2d8eb49541"
  },
  "kernelspec": {
   "display_name": "Python 3.10.2 64-bit (windows store)",
   "language": "python",
   "name": "python3"
  },
  "language_info": {
   "codemirror_mode": {
    "name": "ipython",
    "version": 3
   },
   "file_extension": ".py",
   "mimetype": "text/x-python",
   "name": "python",
   "nbconvert_exporter": "python",
   "pygments_lexer": "ipython3",
   "version": "3.10.2"
  },
  "orig_nbformat": 4
 },
 "nbformat": 4,
 "nbformat_minor": 2
}
